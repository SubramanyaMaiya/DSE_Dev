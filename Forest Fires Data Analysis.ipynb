{
 "cells": [
  {
   "cell_type": "markdown",
   "metadata": {},
   "source": [
    "Forest fires are a serious problem for the preservation of the Tropical Forests. Understanding the frequency of forest fires in a time series can help to take action to prevent them. Brazil has the largest rainforest on the planet that is the Amazon rainforest."
   ]
  },
  {
   "cell_type": "code",
   "execution_count": 1,
   "metadata": {},
   "outputs": [
    {
     "name": "stderr",
     "output_type": "stream",
     "text": [
      "E:\\Anaconda\\lib\\importlib\\_bootstrap.py:219: RuntimeWarning: numpy.ufunc size changed, may indicate binary incompatibility. Expected 192 from C header, got 216 from PyObject\n",
      "  return f(*args, **kwds)\n",
      "E:\\Anaconda\\lib\\importlib\\_bootstrap.py:219: RuntimeWarning: numpy.ufunc size changed, may indicate binary incompatibility. Expected 192 from C header, got 216 from PyObject\n",
      "  return f(*args, **kwds)\n",
      "E:\\Anaconda\\lib\\importlib\\_bootstrap.py:219: RuntimeWarning: numpy.ufunc size changed, may indicate binary incompatibility. Expected 192 from C header, got 216 from PyObject\n",
      "  return f(*args, **kwds)\n",
      "E:\\Anaconda\\lib\\importlib\\_bootstrap.py:219: RuntimeWarning: numpy.ufunc size changed, may indicate binary incompatibility. Expected 192 from C header, got 216 from PyObject\n",
      "  return f(*args, **kwds)\n"
     ]
    }
   ],
   "source": [
    "import pandas as pd\n",
    "import numpy as np\n",
    "import seaborn as sns\n",
    "import matplotlib.pyplot as plt"
   ]
  },
  {
   "cell_type": "code",
   "execution_count": 4,
   "metadata": {},
   "outputs": [
    {
     "data": {
      "text/html": [
       "<div>\n",
       "<style scoped>\n",
       "    .dataframe tbody tr th:only-of-type {\n",
       "        vertical-align: middle;\n",
       "    }\n",
       "\n",
       "    .dataframe tbody tr th {\n",
       "        vertical-align: top;\n",
       "    }\n",
       "\n",
       "    .dataframe thead th {\n",
       "        text-align: right;\n",
       "    }\n",
       "</style>\n",
       "<table border=\"1\" class=\"dataframe\">\n",
       "  <thead>\n",
       "    <tr style=\"text-align: right;\">\n",
       "      <th></th>\n",
       "      <th>year</th>\n",
       "      <th>state</th>\n",
       "      <th>month</th>\n",
       "      <th>number</th>\n",
       "      <th>date</th>\n",
       "    </tr>\n",
       "  </thead>\n",
       "  <tbody>\n",
       "    <tr>\n",
       "      <td>0</td>\n",
       "      <td>1998</td>\n",
       "      <td>Acre</td>\n",
       "      <td>Janeiro</td>\n",
       "      <td>0.0</td>\n",
       "      <td>1998-01-01</td>\n",
       "    </tr>\n",
       "    <tr>\n",
       "      <td>1</td>\n",
       "      <td>1999</td>\n",
       "      <td>Acre</td>\n",
       "      <td>Janeiro</td>\n",
       "      <td>0.0</td>\n",
       "      <td>1999-01-01</td>\n",
       "    </tr>\n",
       "    <tr>\n",
       "      <td>2</td>\n",
       "      <td>2000</td>\n",
       "      <td>Acre</td>\n",
       "      <td>Janeiro</td>\n",
       "      <td>0.0</td>\n",
       "      <td>2000-01-01</td>\n",
       "    </tr>\n",
       "    <tr>\n",
       "      <td>3</td>\n",
       "      <td>2001</td>\n",
       "      <td>Acre</td>\n",
       "      <td>Janeiro</td>\n",
       "      <td>0.0</td>\n",
       "      <td>2001-01-01</td>\n",
       "    </tr>\n",
       "    <tr>\n",
       "      <td>4</td>\n",
       "      <td>2002</td>\n",
       "      <td>Acre</td>\n",
       "      <td>Janeiro</td>\n",
       "      <td>0.0</td>\n",
       "      <td>2002-01-01</td>\n",
       "    </tr>\n",
       "  </tbody>\n",
       "</table>\n",
       "</div>"
      ],
      "text/plain": [
       "   year state    month  number        date\n",
       "0  1998  Acre  Janeiro     0.0  1998-01-01\n",
       "1  1999  Acre  Janeiro     0.0  1999-01-01\n",
       "2  2000  Acre  Janeiro     0.0  2000-01-01\n",
       "3  2001  Acre  Janeiro     0.0  2001-01-01\n",
       "4  2002  Acre  Janeiro     0.0  2002-01-01"
      ]
     },
     "execution_count": 4,
     "metadata": {},
     "output_type": "execute_result"
    }
   ],
   "source": [
    "df = pd.read_csv('amazon.csv',engine='python')\n",
    "df.head()"
   ]
  },
  {
   "cell_type": "code",
   "execution_count": 5,
   "metadata": {},
   "outputs": [
    {
     "name": "stdout",
     "output_type": "stream",
     "text": [
      "<class 'pandas.core.frame.DataFrame'>\n",
      "RangeIndex: 6454 entries, 0 to 6453\n",
      "Data columns (total 5 columns):\n",
      "year      6454 non-null int64\n",
      "state     6454 non-null object\n",
      "month     6454 non-null object\n",
      "number    6454 non-null float64\n",
      "date      6454 non-null object\n",
      "dtypes: float64(1), int64(1), object(3)\n",
      "memory usage: 252.2+ KB\n"
     ]
    }
   ],
   "source": [
    "df.info()"
   ]
  },
  {
   "cell_type": "code",
   "execution_count": 6,
   "metadata": {},
   "outputs": [],
   "source": [
    "# Converting Date column to datetime\n",
    "df['date'] = pd.to_datetime(df['date'])"
   ]
  },
  {
   "cell_type": "code",
   "execution_count": 7,
   "metadata": {},
   "outputs": [
    {
     "data": {
      "text/plain": [
       "year      0\n",
       "state     0\n",
       "month     0\n",
       "number    0\n",
       "date      0\n",
       "dtype: int64"
      ]
     },
     "execution_count": 7,
     "metadata": {},
     "output_type": "execute_result"
    }
   ],
   "source": [
    "df.isnull().sum()"
   ]
  },
  {
   "cell_type": "code",
   "execution_count": 8,
   "metadata": {},
   "outputs": [],
   "source": [
    "# No missing value present in the dataset."
   ]
  },
  {
   "cell_type": "code",
   "execution_count": 10,
   "metadata": {},
   "outputs": [
    {
     "data": {
      "text/html": [
       "<div>\n",
       "<style scoped>\n",
       "    .dataframe tbody tr th:only-of-type {\n",
       "        vertical-align: middle;\n",
       "    }\n",
       "\n",
       "    .dataframe tbody tr th {\n",
       "        vertical-align: top;\n",
       "    }\n",
       "\n",
       "    .dataframe thead th {\n",
       "        text-align: right;\n",
       "    }\n",
       "</style>\n",
       "<table border=\"1\" class=\"dataframe\">\n",
       "  <thead>\n",
       "    <tr style=\"text-align: right;\">\n",
       "      <th></th>\n",
       "      <th>year</th>\n",
       "      <th>state</th>\n",
       "      <th>month</th>\n",
       "      <th>number</th>\n",
       "    </tr>\n",
       "  </thead>\n",
       "  <tbody>\n",
       "    <tr>\n",
       "      <td>0</td>\n",
       "      <td>1998</td>\n",
       "      <td>Acre</td>\n",
       "      <td>Janeiro</td>\n",
       "      <td>0.0</td>\n",
       "    </tr>\n",
       "    <tr>\n",
       "      <td>1</td>\n",
       "      <td>1999</td>\n",
       "      <td>Acre</td>\n",
       "      <td>Janeiro</td>\n",
       "      <td>0.0</td>\n",
       "    </tr>\n",
       "    <tr>\n",
       "      <td>2</td>\n",
       "      <td>2000</td>\n",
       "      <td>Acre</td>\n",
       "      <td>Janeiro</td>\n",
       "      <td>0.0</td>\n",
       "    </tr>\n",
       "    <tr>\n",
       "      <td>3</td>\n",
       "      <td>2001</td>\n",
       "      <td>Acre</td>\n",
       "      <td>Janeiro</td>\n",
       "      <td>0.0</td>\n",
       "    </tr>\n",
       "    <tr>\n",
       "      <td>4</td>\n",
       "      <td>2002</td>\n",
       "      <td>Acre</td>\n",
       "      <td>Janeiro</td>\n",
       "      <td>0.0</td>\n",
       "    </tr>\n",
       "  </tbody>\n",
       "</table>\n",
       "</div>"
      ],
      "text/plain": [
       "   year state    month  number\n",
       "0  1998  Acre  Janeiro     0.0\n",
       "1  1999  Acre  Janeiro     0.0\n",
       "2  2000  Acre  Janeiro     0.0\n",
       "3  2001  Acre  Janeiro     0.0\n",
       "4  2002  Acre  Janeiro     0.0"
      ]
     },
     "execution_count": 10,
     "metadata": {},
     "output_type": "execute_result"
    }
   ],
   "source": [
    "# Since date column values are already present in year and month feature, we can drop the date column\n",
    "df.drop('date',axis=1,inplace=True)\n",
    "df.head()"
   ]
  },
  {
   "cell_type": "code",
   "execution_count": 12,
   "metadata": {},
   "outputs": [
    {
     "data": {
      "text/plain": [
       "array([1998, 1999, 2000, 2001, 2002, 2003, 2004, 2005, 2006, 2007, 2008,\n",
       "       2009, 2010, 2011, 2012, 2013, 2014, 2015, 2016, 2017], dtype=int64)"
      ]
     },
     "execution_count": 12,
     "metadata": {},
     "output_type": "execute_result"
    }
   ],
   "source": [
    "# Checking the unique year. i.e to get from and till which year the data is collected.\n",
    "df['year'].unique()"
   ]
  },
  {
   "cell_type": "code",
   "execution_count": 13,
   "metadata": {},
   "outputs": [],
   "source": [
    "# From 1998 till 2017, the data is collected."
   ]
  },
  {
   "cell_type": "code",
   "execution_count": 14,
   "metadata": {},
   "outputs": [
    {
     "data": {
      "text/plain": [
       "array(['Acre', 'Alagoas', 'Amapa', 'Amazonas', 'Bahia', 'Ceara',\n",
       "       'Distrito Federal', 'Espirito Santo', 'Goias', 'Maranhao',\n",
       "       'Mato Grosso', 'Minas Gerais', 'Pará', 'Paraiba', 'Pernambuco',\n",
       "       'Piau', 'Rio', 'Rondonia', 'Roraima', 'Santa Catarina',\n",
       "       'Sao Paulo', 'Sergipe', 'Tocantins'], dtype=object)"
      ]
     },
     "execution_count": 14,
     "metadata": {},
     "output_type": "execute_result"
    }
   ],
   "source": [
    "# Checking in which all states this forestfire is recoreded.\n",
    "df['state'].unique()"
   ]
  },
  {
   "cell_type": "code",
   "execution_count": 20,
   "metadata": {
    "scrolled": true
   },
   "outputs": [
    {
     "data": {
      "text/plain": [
       "0.000      617\n",
       "1.000      237\n",
       "2.000      174\n",
       "3.000      143\n",
       "4.000      115\n",
       "          ... \n",
       "1.461        1\n",
       "6.316        1\n",
       "5.882        1\n",
       "572.000      1\n",
       "6.326        1\n",
       "Name: number, Length: 1479, dtype: int64"
      ]
     },
     "execution_count": 20,
     "metadata": {},
     "output_type": "execute_result"
    }
   ],
   "source": [
    "df['number'].value_counts()"
   ]
  },
  {
   "cell_type": "code",
   "execution_count": 27,
   "metadata": {},
   "outputs": [],
   "source": [
    "# From the above, number of forestfire occurred contains fraction values, hence converting it to a whole number as 1.461 forest fire recoreded doesnot give any proper information.\n",
    "# So rounding it off to a closest integer value.\n",
    "df['number'] = df['number'].apply(lambda x: round(x))"
   ]
  },
  {
   "cell_type": "code",
   "execution_count": 43,
   "metadata": {},
   "outputs": [
    {
     "data": {
      "text/plain": [
       "([<matplotlib.axis.XTick at 0x1b5d5b5d288>,\n",
       "  <matplotlib.axis.XTick at 0x1b5d5b98708>,\n",
       "  <matplotlib.axis.XTick at 0x1b5d5bb9d48>,\n",
       "  <matplotlib.axis.XTick at 0x1b5d5bc5988>,\n",
       "  <matplotlib.axis.XTick at 0x1b5d5bcb188>,\n",
       "  <matplotlib.axis.XTick at 0x1b5d5bcb788>,\n",
       "  <matplotlib.axis.XTick at 0x1b5d5bcd448>,\n",
       "  <matplotlib.axis.XTick at 0x1b5d5bd2088>,\n",
       "  <matplotlib.axis.XTick at 0x1b5d5bd2b08>,\n",
       "  <matplotlib.axis.XTick at 0x1b5d5b98348>,\n",
       "  <matplotlib.axis.XTick at 0x1b5d5bda648>,\n",
       "  <matplotlib.axis.XTick at 0x1b5d5bdab48>,\n",
       "  <matplotlib.axis.XTick at 0x1b5d5bd8d48>,\n",
       "  <matplotlib.axis.XTick at 0x1b5d5bcba48>,\n",
       "  <matplotlib.axis.XTick at 0x1b5d5bdd188>,\n",
       "  <matplotlib.axis.XTick at 0x1b5d5be0048>,\n",
       "  <matplotlib.axis.XTick at 0x1b5d5be0a08>,\n",
       "  <matplotlib.axis.XTick at 0x1b5d5be4648>,\n",
       "  <matplotlib.axis.XTick at 0x1b5d5be7208>,\n",
       "  <matplotlib.axis.XTick at 0x1b5d5be7cc8>],\n",
       " <a list of 20 Text xticklabel objects>)"
      ]
     },
     "execution_count": 43,
     "metadata": {},
     "output_type": "execute_result"
    },
    {
     "data": {
      "image/png": "[encoded data removed]",
      "text/plain": [
       "<Figure size 864x576 with 1 Axes>"
      ]
     },
     "metadata": {
      "needs_background": "light"
     },
     "output_type": "display_data"
    }
   ],
   "source": [
    "# Checking no. of incidents recorded on each year.\n",
    "df.groupby(by='year').sum().plot(kind='line',figsize=(12,8))\n",
    "plt.xticks(df['year'].unique())"
   ]
  },
  {
   "cell_type": "markdown",
   "metadata": {},
   "source": [
    "From the above plot it is clear that, in the year 2003, more Number of Forest Fires reported. And then in the year 2016, it is again hit the maximum number.\n",
    "It is also seen that, from 2003 till 2008, there is a sudden dip in the fire accidents reported. After 2001, we can see the lowest number of forestfire occurred is in 2008"
   ]
  },
  {
   "cell_type": "code",
   "execution_count": 48,
   "metadata": {},
   "outputs": [
    {
     "data": {
      "text/plain": [
       "<matplotlib.axes._subplots.AxesSubplot at 0x1b5d8c47588>"
      ]
     },
     "execution_count": 48,
     "metadata": {},
     "output_type": "execute_result"
    },
    {
     "data": {
      "image/png": "[encoded data removed]",
      "text/plain": [
       "<Figure size 432x288 with 1 Axes>"
      ]
     },
     "metadata": {
      "needs_background": "light"
     },
     "output_type": "display_data"
    }
   ],
   "source": [
    "# Which state is facing this problem more?\n",
    "df.groupby(by='state').sum()['number'].sort_values(ascending=True).plot(kind='bar')"
   ]
  },
  {
   "cell_type": "markdown",
   "metadata": {},
   "source": [
    "In State Mato Grosso, more number of forestfire is reported. And states Sergipe,Distrito Federal,Alagoas,Espirito Santo are having least fire rates compared to other states."
   ]
  },
  {
   "cell_type": "code",
   "execution_count": 53,
   "metadata": {},
   "outputs": [
    {
     "data": {
      "text/plain": [
       "<matplotlib.axes._subplots.AxesSubplot at 0x1b5d8e3f688>"
      ]
     },
     "execution_count": 53,
     "metadata": {},
     "output_type": "execute_result"
    },
    {
     "data": {
      "image/png": "[encoded data removed]",
      "text/plain": [
       "<Figure size 432x288 with 1 Axes>"
      ]
     },
     "metadata": {
      "needs_background": "light"
     },
     "output_type": "display_data"
    }
   ],
   "source": [
    "# Checking the number of fire rates in each month\n",
    "df.groupby(by='month').sum()['number'].plot(kind='bar')"
   ]
  },
  {
   "cell_type": "markdown",
   "metadata": {},
   "source": [
    "In the month of Agosoto(August),Julho(July),Novembro(November) and Outubro(October), we can see more number of forestfires recorded. And in Abril(April),Maio(May),Marco(March) months, the fire incident recorded is less."
   ]
  },
  {
   "cell_type": "code",
   "execution_count": 56,
   "metadata": {},
   "outputs": [
    {
     "data": {
      "text/html": [
       "<div>\n",
       "<style scoped>\n",
       "    .dataframe tbody tr th:only-of-type {\n",
       "        vertical-align: middle;\n",
       "    }\n",
       "\n",
       "    .dataframe tbody tr th {\n",
       "        vertical-align: top;\n",
       "    }\n",
       "\n",
       "    .dataframe thead th {\n",
       "        text-align: right;\n",
       "    }\n",
       "</style>\n",
       "<table border=\"1\" class=\"dataframe\">\n",
       "  <thead>\n",
       "    <tr style=\"text-align: right;\">\n",
       "      <th></th>\n",
       "      <th>year</th>\n",
       "      <th>state</th>\n",
       "      <th>month</th>\n",
       "      <th>number</th>\n",
       "    </tr>\n",
       "  </thead>\n",
       "  <tbody>\n",
       "    <tr>\n",
       "      <td>888</td>\n",
       "      <td>2008</td>\n",
       "      <td>Amazonas</td>\n",
       "      <td>Setembro</td>\n",
       "      <td>998</td>\n",
       "    </tr>\n",
       "  </tbody>\n",
       "</table>\n",
       "</div>"
      ],
      "text/plain": [
       "     year     state     month  number\n",
       "888  2008  Amazonas  Setembro     998"
      ]
     },
     "execution_count": 56,
     "metadata": {},
     "output_type": "execute_result"
    }
   ],
   "source": [
    "# Lets see the maximum number of forestfire recorded in a month. \n",
    "df[df['number'] == df['number'].max()]"
   ]
  },
  {
   "cell_type": "markdown",
   "metadata": {},
   "source": [
    " Maximum number of forestfire is recorded in the State Amazonas in 2008-September. "
   ]
  },
  {
   "cell_type": "code",
   "execution_count": 86,
   "metadata": {},
   "outputs": [
    {
     "data": {
      "text/plain": [
       "count    5837.000000\n",
       "mean      119.734795\n",
       "std       197.202977\n",
       "min         1.000000\n",
       "25%         6.000000\n",
       "50%        33.000000\n",
       "75%       131.000000\n",
       "max       998.000000\n",
       "Name: number, dtype: float64"
      ]
     },
     "execution_count": 86,
     "metadata": {},
     "output_type": "execute_result"
    }
   ],
   "source": [
    "# sns.distplot(\n",
    "df[df['number']!=0]['number'].describe()"
   ]
  },
  {
   "cell_type": "markdown",
   "metadata": {},
   "source": [
    "### Yearly and State wise ForestFire Calculation and Visualization"
   ]
  },
  {
   "cell_type": "code",
   "execution_count": 111,
   "metadata": {
    "scrolled": false
   },
   "outputs": [
    {
     "data": {
      "text/plain": [
       "<matplotlib.legend.Legend at 0x1b59897b348>"
      ]
     },
     "execution_count": 111,
     "metadata": {},
     "output_type": "execute_result"
    },
    {
     "data": {
      "image/png": "[encoded data removed]",
      "text/plain": [
       "<Figure size 1440x720 with 1 Axes>"
      ]
     },
     "metadata": {
      "needs_background": "light"
     },
     "output_type": "display_data"
    }
   ],
   "source": [
    "pd.crosstab(df['year'],df['state'],values=df['number'],aggfunc='sum').plot.bar(stacked=True,figsize=(20, 10))\n",
    "plt.legend()"
   ]
  },
  {
   "cell_type": "markdown",
   "metadata": {},
   "source": [
    "### Monthly and State wise Forestfire incident Calculation and Visualization"
   ]
  },
  {
   "cell_type": "code",
   "execution_count": 114,
   "metadata": {
    "scrolled": false
   },
   "outputs": [
    {
     "data": {
      "text/plain": [
       "<matplotlib.axes._subplots.AxesSubplot at 0x1b59a8e0b88>"
      ]
     },
     "execution_count": 114,
     "metadata": {},
     "output_type": "execute_result"
    },
    {
     "data": {
      "image/png": "[encoded data removed]",
      "text/plain": [
       "<Figure size 1440x720 with 1 Axes>"
      ]
     },
     "metadata": {
      "needs_background": "light"
     },
     "output_type": "display_data"
    }
   ],
   "source": [
    "pd.crosstab(df['month'],df['state'],values=df['number'],aggfunc='sum').plot.bar(stacked=True,figsize=(20, 10))"
   ]
  },
  {
   "cell_type": "code",
   "execution_count": 116,
   "metadata": {},
   "outputs": [
    {
     "data": {
      "text/html": [
       "<div>\n",
       "<style scoped>\n",
       "    .dataframe tbody tr th:only-of-type {\n",
       "        vertical-align: middle;\n",
       "    }\n",
       "\n",
       "    .dataframe tbody tr th {\n",
       "        vertical-align: top;\n",
       "    }\n",
       "\n",
       "    .dataframe thead th {\n",
       "        text-align: right;\n",
       "    }\n",
       "</style>\n",
       "<table border=\"1\" class=\"dataframe\">\n",
       "  <thead>\n",
       "    <tr style=\"text-align: right;\">\n",
       "      <th>month</th>\n",
       "      <th>Abril</th>\n",
       "      <th>Agosto</th>\n",
       "      <th>Dezembro</th>\n",
       "      <th>Fevereiro</th>\n",
       "      <th>Janeiro</th>\n",
       "      <th>Julho</th>\n",
       "      <th>Junho</th>\n",
       "      <th>Maio</th>\n",
       "      <th>Março</th>\n",
       "      <th>Novembro</th>\n",
       "      <th>Outubro</th>\n",
       "      <th>Setembro</th>\n",
       "    </tr>\n",
       "    <tr>\n",
       "      <th>state</th>\n",
       "      <th></th>\n",
       "      <th></th>\n",
       "      <th></th>\n",
       "      <th></th>\n",
       "      <th></th>\n",
       "      <th></th>\n",
       "      <th></th>\n",
       "      <th></th>\n",
       "      <th></th>\n",
       "      <th></th>\n",
       "      <th></th>\n",
       "      <th></th>\n",
       "    </tr>\n",
       "  </thead>\n",
       "  <tbody>\n",
       "    <tr>\n",
       "      <td>Acre</td>\n",
       "      <td>41</td>\n",
       "      <td>6392</td>\n",
       "      <td>47</td>\n",
       "      <td>19</td>\n",
       "      <td>40</td>\n",
       "      <td>2296</td>\n",
       "      <td>257</td>\n",
       "      <td>81</td>\n",
       "      <td>23</td>\n",
       "      <td>708</td>\n",
       "      <td>7247</td>\n",
       "      <td>1312</td>\n",
       "    </tr>\n",
       "    <tr>\n",
       "      <td>Alagoas</td>\n",
       "      <td>245</td>\n",
       "      <td>40</td>\n",
       "      <td>964</td>\n",
       "      <td>503</td>\n",
       "      <td>933</td>\n",
       "      <td>11</td>\n",
       "      <td>20</td>\n",
       "      <td>56</td>\n",
       "      <td>554</td>\n",
       "      <td>718</td>\n",
       "      <td>434</td>\n",
       "      <td>166</td>\n",
       "    </tr>\n",
       "    <tr>\n",
       "      <td>Amapa</td>\n",
       "      <td>13</td>\n",
       "      <td>274</td>\n",
       "      <td>4504</td>\n",
       "      <td>20</td>\n",
       "      <td>279</td>\n",
       "      <td>32</td>\n",
       "      <td>25</td>\n",
       "      <td>13</td>\n",
       "      <td>16</td>\n",
       "      <td>7052</td>\n",
       "      <td>7686</td>\n",
       "      <td>1917</td>\n",
       "    </tr>\n",
       "    <tr>\n",
       "      <td>Amazonas</td>\n",
       "      <td>192</td>\n",
       "      <td>2900</td>\n",
       "      <td>2224</td>\n",
       "      <td>1047</td>\n",
       "      <td>1531</td>\n",
       "      <td>3809</td>\n",
       "      <td>618</td>\n",
       "      <td>219</td>\n",
       "      <td>728</td>\n",
       "      <td>5843</td>\n",
       "      <td>7827</td>\n",
       "      <td>3709</td>\n",
       "    </tr>\n",
       "    <tr>\n",
       "      <td>Bahia</td>\n",
       "      <td>2510</td>\n",
       "      <td>8725</td>\n",
       "      <td>4559</td>\n",
       "      <td>3285</td>\n",
       "      <td>3812</td>\n",
       "      <td>7362</td>\n",
       "      <td>4015</td>\n",
       "      <td>2644</td>\n",
       "      <td>3403</td>\n",
       "      <td>4264</td>\n",
       "      <td>75</td>\n",
       "      <td>91</td>\n",
       "    </tr>\n",
       "    <tr>\n",
       "      <td>Ceara</td>\n",
       "      <td>76</td>\n",
       "      <td>2405</td>\n",
       "      <td>5250</td>\n",
       "      <td>402</td>\n",
       "      <td>3120</td>\n",
       "      <td>739</td>\n",
       "      <td>245</td>\n",
       "      <td>170</td>\n",
       "      <td>182</td>\n",
       "      <td>4430</td>\n",
       "      <td>7498</td>\n",
       "      <td>5909</td>\n",
       "    </tr>\n",
       "    <tr>\n",
       "      <td>Distrito Federal</td>\n",
       "      <td>25</td>\n",
       "      <td>1196</td>\n",
       "      <td>5</td>\n",
       "      <td>13</td>\n",
       "      <td>8</td>\n",
       "      <td>605</td>\n",
       "      <td>184</td>\n",
       "      <td>96</td>\n",
       "      <td>6</td>\n",
       "      <td>13</td>\n",
       "      <td>273</td>\n",
       "      <td>1137</td>\n",
       "    </tr>\n",
       "    <tr>\n",
       "      <td>Espirito Santo</td>\n",
       "      <td>266</td>\n",
       "      <td>884</td>\n",
       "      <td>239</td>\n",
       "      <td>327</td>\n",
       "      <td>288</td>\n",
       "      <td>347</td>\n",
       "      <td>263</td>\n",
       "      <td>179</td>\n",
       "      <td>300</td>\n",
       "      <td>464</td>\n",
       "      <td>1413</td>\n",
       "      <td>1576</td>\n",
       "    </tr>\n",
       "    <tr>\n",
       "      <td>Goias</td>\n",
       "      <td>1189</td>\n",
       "      <td>7414</td>\n",
       "      <td>1007</td>\n",
       "      <td>1136</td>\n",
       "      <td>737</td>\n",
       "      <td>9575</td>\n",
       "      <td>4935</td>\n",
       "      <td>2398</td>\n",
       "      <td>921</td>\n",
       "      <td>2676</td>\n",
       "      <td>4293</td>\n",
       "      <td>1411</td>\n",
       "    </tr>\n",
       "    <tr>\n",
       "      <td>Maranhao</td>\n",
       "      <td>985</td>\n",
       "      <td>2509</td>\n",
       "      <td>833</td>\n",
       "      <td>1022</td>\n",
       "      <td>4553</td>\n",
       "      <td>3322</td>\n",
       "      <td>9069</td>\n",
       "      <td>1947</td>\n",
       "      <td>625</td>\n",
       "      <td>67</td>\n",
       "      <td>89</td>\n",
       "      <td>104</td>\n",
       "    </tr>\n",
       "    <tr>\n",
       "      <td>Mato Grosso</td>\n",
       "      <td>9953</td>\n",
       "      <td>4726</td>\n",
       "      <td>7595</td>\n",
       "      <td>7456</td>\n",
       "      <td>10480</td>\n",
       "      <td>7466</td>\n",
       "      <td>7089</td>\n",
       "      <td>10158</td>\n",
       "      <td>9613</td>\n",
       "      <td>10166</td>\n",
       "      <td>9922</td>\n",
       "      <td>1614</td>\n",
       "    </tr>\n",
       "    <tr>\n",
       "      <td>Minas Gerais</td>\n",
       "      <td>1741</td>\n",
       "      <td>6586</td>\n",
       "      <td>1987</td>\n",
       "      <td>1808</td>\n",
       "      <td>1329</td>\n",
       "      <td>8951</td>\n",
       "      <td>3893</td>\n",
       "      <td>2224</td>\n",
       "      <td>1595</td>\n",
       "      <td>5151</td>\n",
       "      <td>2144</td>\n",
       "      <td>65</td>\n",
       "    </tr>\n",
       "    <tr>\n",
       "      <td>Paraiba</td>\n",
       "      <td>1281</td>\n",
       "      <td>10164</td>\n",
       "      <td>4222</td>\n",
       "      <td>919</td>\n",
       "      <td>2013</td>\n",
       "      <td>3837</td>\n",
       "      <td>2030</td>\n",
       "      <td>1354</td>\n",
       "      <td>991</td>\n",
       "      <td>8656</td>\n",
       "      <td>8541</td>\n",
       "      <td>8427</td>\n",
       "    </tr>\n",
       "    <tr>\n",
       "      <td>Pará</td>\n",
       "      <td>353</td>\n",
       "      <td>168</td>\n",
       "      <td>2192</td>\n",
       "      <td>1527</td>\n",
       "      <td>5318</td>\n",
       "      <td>9474</td>\n",
       "      <td>3666</td>\n",
       "      <td>748</td>\n",
       "      <td>694</td>\n",
       "      <td>112</td>\n",
       "      <td>102</td>\n",
       "      <td>159</td>\n",
       "    </tr>\n",
       "    <tr>\n",
       "      <td>Pernambuco</td>\n",
       "      <td>172</td>\n",
       "      <td>430</td>\n",
       "      <td>3340</td>\n",
       "      <td>525</td>\n",
       "      <td>1871</td>\n",
       "      <td>112</td>\n",
       "      <td>70</td>\n",
       "      <td>130</td>\n",
       "      <td>456</td>\n",
       "      <td>6202</td>\n",
       "      <td>7548</td>\n",
       "      <td>3642</td>\n",
       "    </tr>\n",
       "    <tr>\n",
       "      <td>Piau</td>\n",
       "      <td>571</td>\n",
       "      <td>5450</td>\n",
       "      <td>7030</td>\n",
       "      <td>654</td>\n",
       "      <td>1346</td>\n",
       "      <td>7459</td>\n",
       "      <td>4058</td>\n",
       "      <td>1326</td>\n",
       "      <td>556</td>\n",
       "      <td>7466</td>\n",
       "      <td>960</td>\n",
       "      <td>925</td>\n",
       "    </tr>\n",
       "    <tr>\n",
       "      <td>Rio</td>\n",
       "      <td>1286</td>\n",
       "      <td>7727</td>\n",
       "      <td>3713</td>\n",
       "      <td>1281</td>\n",
       "      <td>2447</td>\n",
       "      <td>3849</td>\n",
       "      <td>1272</td>\n",
       "      <td>1084</td>\n",
       "      <td>1311</td>\n",
       "      <td>4490</td>\n",
       "      <td>6532</td>\n",
       "      <td>10168</td>\n",
       "    </tr>\n",
       "    <tr>\n",
       "      <td>Rondonia</td>\n",
       "      <td>204</td>\n",
       "      <td>1432</td>\n",
       "      <td>1573</td>\n",
       "      <td>267</td>\n",
       "      <td>475</td>\n",
       "      <td>6241</td>\n",
       "      <td>1576</td>\n",
       "      <td>359</td>\n",
       "      <td>237</td>\n",
       "      <td>4483</td>\n",
       "      <td>3332</td>\n",
       "      <td>105</td>\n",
       "    </tr>\n",
       "    <tr>\n",
       "      <td>Roraima</td>\n",
       "      <td>2310</td>\n",
       "      <td>207</td>\n",
       "      <td>2377</td>\n",
       "      <td>5418</td>\n",
       "      <td>3983</td>\n",
       "      <td>71</td>\n",
       "      <td>84</td>\n",
       "      <td>396</td>\n",
       "      <td>4873</td>\n",
       "      <td>2305</td>\n",
       "      <td>1663</td>\n",
       "      <td>698</td>\n",
       "    </tr>\n",
       "    <tr>\n",
       "      <td>Santa Catarina</td>\n",
       "      <td>577</td>\n",
       "      <td>7603</td>\n",
       "      <td>789</td>\n",
       "      <td>333</td>\n",
       "      <td>510</td>\n",
       "      <td>1866</td>\n",
       "      <td>673</td>\n",
       "      <td>499</td>\n",
       "      <td>588</td>\n",
       "      <td>2379</td>\n",
       "      <td>2894</td>\n",
       "      <td>5649</td>\n",
       "    </tr>\n",
       "    <tr>\n",
       "      <td>Sao Paulo</td>\n",
       "      <td>1949</td>\n",
       "      <td>9902</td>\n",
       "      <td>1009</td>\n",
       "      <td>1504</td>\n",
       "      <td>872</td>\n",
       "      <td>7961</td>\n",
       "      <td>4746</td>\n",
       "      <td>2924</td>\n",
       "      <td>1507</td>\n",
       "      <td>2394</td>\n",
       "      <td>6681</td>\n",
       "      <td>9672</td>\n",
       "    </tr>\n",
       "    <tr>\n",
       "      <td>Sergipe</td>\n",
       "      <td>251</td>\n",
       "      <td>9</td>\n",
       "      <td>527</td>\n",
       "      <td>550</td>\n",
       "      <td>828</td>\n",
       "      <td>1</td>\n",
       "      <td>11</td>\n",
       "      <td>50</td>\n",
       "      <td>626</td>\n",
       "      <td>288</td>\n",
       "      <td>80</td>\n",
       "      <td>16</td>\n",
       "    </tr>\n",
       "    <tr>\n",
       "      <td>Tocantins</td>\n",
       "      <td>1999</td>\n",
       "      <td>898</td>\n",
       "      <td>1549</td>\n",
       "      <td>832</td>\n",
       "      <td>975</td>\n",
       "      <td>6938</td>\n",
       "      <td>7209</td>\n",
       "      <td>5676</td>\n",
       "      <td>912</td>\n",
       "      <td>5176</td>\n",
       "      <td>1444</td>\n",
       "      <td>98</td>\n",
       "    </tr>\n",
       "  </tbody>\n",
       "</table>\n",
       "</div>"
      ],
      "text/plain": [
       "month             Abril  Agosto  Dezembro  Fevereiro  Janeiro  Julho  Junho  \\\n",
       "state                                                                         \n",
       "Acre                 41    6392        47         19       40   2296    257   \n",
       "Alagoas             245      40       964        503      933     11     20   \n",
       "Amapa                13     274      4504         20      279     32     25   \n",
       "Amazonas            192    2900      2224       1047     1531   3809    618   \n",
       "Bahia              2510    8725      4559       3285     3812   7362   4015   \n",
       "Ceara                76    2405      5250        402     3120    739    245   \n",
       "Distrito Federal     25    1196         5         13        8    605    184   \n",
       "Espirito Santo      266     884       239        327      288    347    263   \n",
       "Goias              1189    7414      1007       1136      737   9575   4935   \n",
       "Maranhao            985    2509       833       1022     4553   3322   9069   \n",
       "Mato Grosso        9953    4726      7595       7456    10480   7466   7089   \n",
       "Minas Gerais       1741    6586      1987       1808     1329   8951   3893   \n",
       "Paraiba            1281   10164      4222        919     2013   3837   2030   \n",
       "Pará                353     168      2192       1527     5318   9474   3666   \n",
       "Pernambuco          172     430      3340        525     1871    112     70   \n",
       "Piau                571    5450      7030        654     1346   7459   4058   \n",
       "Rio                1286    7727      3713       1281     2447   3849   1272   \n",
       "Rondonia            204    1432      1573        267      475   6241   1576   \n",
       "Roraima            2310     207      2377       5418     3983     71     84   \n",
       "Santa Catarina      577    7603       789        333      510   1866    673   \n",
       "Sao Paulo          1949    9902      1009       1504      872   7961   4746   \n",
       "Sergipe             251       9       527        550      828      1     11   \n",
       "Tocantins          1999     898      1549        832      975   6938   7209   \n",
       "\n",
       "month              Maio  Março  Novembro  Outubro  Setembro  \n",
       "state                                                        \n",
       "Acre                 81     23       708     7247      1312  \n",
       "Alagoas              56    554       718      434       166  \n",
       "Amapa                13     16      7052     7686      1917  \n",
       "Amazonas            219    728      5843     7827      3709  \n",
       "Bahia              2644   3403      4264       75        91  \n",
       "Ceara               170    182      4430     7498      5909  \n",
       "Distrito Federal     96      6        13      273      1137  \n",
       "Espirito Santo      179    300       464     1413      1576  \n",
       "Goias              2398    921      2676     4293      1411  \n",
       "Maranhao           1947    625        67       89       104  \n",
       "Mato Grosso       10158   9613     10166     9922      1614  \n",
       "Minas Gerais       2224   1595      5151     2144        65  \n",
       "Paraiba            1354    991      8656     8541      8427  \n",
       "Pará                748    694       112      102       159  \n",
       "Pernambuco          130    456      6202     7548      3642  \n",
       "Piau               1326    556      7466      960       925  \n",
       "Rio                1084   1311      4490     6532     10168  \n",
       "Rondonia            359    237      4483     3332       105  \n",
       "Roraima             396   4873      2305     1663       698  \n",
       "Santa Catarina      499    588      2379     2894      5649  \n",
       "Sao Paulo          2924   1507      2394     6681      9672  \n",
       "Sergipe              50    626       288       80        16  \n",
       "Tocantins          5676    912      5176     1444        98  "
      ]
     },
     "execution_count": 116,
     "metadata": {},
     "output_type": "execute_result"
    }
   ],
   "source": [
    "pd.crosstab(df['month'],df['state'],values=df['number'],aggfunc='sum').T"
   ]
  },
  {
   "cell_type": "markdown",
   "metadata": {},
   "source": [
    "<b>Observartion:-</b>\n",
    "\n",
    "From the above graph and table, it is clear that the forest fire rate in the State Mato Grosso is always high in all the months.\n",
    "\n",
    "For the state Acre, there is more forest fire incidents recorded in the months between Julho to Outubro\n",
    "\n",
    "For Alagoas, the incidents reported are very less compared to other states.\n",
    "\n",
    "There is only 1 forest fire incident recorded for Sergipe in the month of Julho, where as for all the other states the rate of incidents occurred are more in the months between Julho to Dezembro.\n",
    "\n",
    "For the state Roraima, it is weird that there is high chance of forests getting fired in the month Fevereiro and Janeiro."
   ]
  },
  {
   "cell_type": "markdown",
   "metadata": {},
   "source": [
    "<b>Conclusion:-</b>\n",
    " \n",
    "1. In the year 2003 and 2016, more Number of Forest Fires reported. After 2001, we can see the lowest number of forestfire occurred is in 2008.\n",
    "\n",
    "2. In State Mato Grosso, more number of forestfire is reported. And states Sergipe,Distrito Federal,Alagoas,Espirito Santo are having least fire rates compared to other states.\n",
    "\n",
    "3. In the month of Agosoto,Julho,Novembro and Outubro we can see more number of forestfires recorded. And in Abril,Maio,Marco months the fire incident recorded are less.\n",
    "\n",
    "4. Maximum number of forestfire is recorded in the State Amazonas in 2008-September."
   ]
  }
 ],
 "metadata": {
  "kernelspec": {
   "display_name": "Python 3",
   "language": "python",
   "name": "python3"
  },
  "language_info": {
   "codemirror_mode": {
    "name": "ipython",
    "version": 3
   },
   "file_extension": ".py",
   "mimetype": "text/x-python",
   "name": "python",
   "nbconvert_exporter": "python",
   "pygments_lexer": "ipython3",
   "version": "3.7.4"
  }
 },
 "nbformat": 4,
 "nbformat_minor": 2
}
